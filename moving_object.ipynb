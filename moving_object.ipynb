{
 "cells": [
  {
   "cell_type": "markdown",
   "metadata": {},
   "source": [
    "### Aim\n",
    "\n",
    "Create and move an object."
   ]
  },
  {
   "cell_type": "code",
   "execution_count": 1,
   "metadata": {},
   "outputs": [],
   "source": [
    "import math"
   ]
  },
  {
   "cell_type": "code",
   "execution_count": 2,
   "metadata": {},
   "outputs": [],
   "source": [
    "from graphics import *"
   ]
  },
  {
   "cell_type": "code",
   "execution_count": 3,
   "metadata": {},
   "outputs": [],
   "source": [
    "radius = 40\n",
    "\n",
    "def moveObject():\n",
    "    win = GraphWin('Moving Object', 800, 600)\n",
    "    \n",
    "    x = 200\n",
    "    y = 200\n",
    "    c = Circle(Point(x, y), radius)\n",
    "    c.draw(win)\n",
    "    c.setFill('pink')\n",
    "    \n",
    "    theta = 0\n",
    "    while theta<=720:\n",
    "        inrad = float((theta*2*math.pi)/360.0)\n",
    "        x_center = radius*math.cos(inrad)\n",
    "        y_center = radius*math.sin(inrad)\n",
    "        c.move(x_center, y_center)\n",
    "        time.sleep(0.2)\n",
    "        theta += 15\n",
    "\n",
    "    win.getMouse()\n",
    "    win.close()"
   ]
  },
  {
   "cell_type": "code",
   "execution_count": 4,
   "metadata": {},
   "outputs": [],
   "source": [
    "moveObject()"
   ]
  },
  {
   "cell_type": "code",
   "execution_count": null,
   "metadata": {},
   "outputs": [],
   "source": []
  }
 ],
 "metadata": {
  "kernelspec": {
   "display_name": "Python 3",
   "language": "python",
   "name": "python3"
  },
  "language_info": {
   "codemirror_mode": {
    "name": "ipython",
    "version": 3
   },
   "file_extension": ".py",
   "mimetype": "text/x-python",
   "name": "python",
   "nbconvert_exporter": "python",
   "pygments_lexer": "ipython3",
   "version": "3.8.8"
  }
 },
 "nbformat": 4,
 "nbformat_minor": 4
}
