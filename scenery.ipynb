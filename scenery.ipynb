{
 "cells": [
  {
   "cell_type": "markdown",
   "metadata": {},
   "source": [
    "### Aim\n",
    "\n",
    "Draw a scenery using in-built functions of graphics module"
   ]
  },
  {
   "cell_type": "code",
   "execution_count": 3,
   "metadata": {},
   "outputs": [],
   "source": [
    "from graphics import *"
   ]
  },
  {
   "cell_type": "code",
   "execution_count": 16,
   "metadata": {},
   "outputs": [],
   "source": [
    "def scenery():\n",
    "    win = GraphWin(\"Scenery\", 800, 500) \n",
    "    \n",
    "    # background\n",
    "    poly = Polygon(Point(10,10), Point(600,10), Point(600,450), Point(10, 450))\n",
    "    poly.setFill(\"lightgrey\")\n",
    "    poly.draw(win)\n",
    "\n",
    "    # moon\n",
    "    moon = Circle(Point(500,80), 25)  # set center and radius\n",
    "    moon.setFill('grey')\n",
    "    moon.draw(win)\n",
    "    \n",
    "    # mountain - 1\n",
    "    line = Line(Point(10, 250), Point(180, 50))\n",
    "    line.draw(win)\n",
    "    line = Line(Point(180, 50), Point(380, 270))\n",
    "    line.draw(win)\n",
    "    line = Line(Point(360, 250), Point(600, 250))\n",
    "    line.draw(win)\n",
    "    line = Line(Point(450, 250), Point(600, 150))\n",
    "    line.draw(win)\n",
    "    poly = Polygon(Point(10,250), Point(180,50), Point(380,270), Point(10, 280))\n",
    "    poly.setFill(\"brown\")\n",
    "    poly.draw(win)\n",
    "    \n",
    "    # mountain - 2\n",
    "    line = Line(Point(315, 200), Point(400, 100))\n",
    "    line.draw(win)\n",
    "    line = Line(Point(400, 100), Point(520, 200))\n",
    "    line.draw(win)\n",
    "    line = Line(Point(10, 280), Point(380, 270))\n",
    "    line.draw(win)\n",
    "    poly = Polygon(Point(315,200), Point(400,100), Point(542,202), Point(450, 250), Point(360,250))\n",
    "    poly.setFill(\"brown\")\n",
    "    poly.draw(win)\n",
    "    \n",
    "    # mountain - 3\n",
    "    poly = Polygon(Point(450,250), Point(600,250), Point(600,150))\n",
    "    poly.setFill(\"brown\")\n",
    "    poly.draw(win)\n",
    "    \n",
    "    # hut\n",
    "    line = Line(Point(310, 370), Point(350, 370))\n",
    "    line.draw(win)\n",
    "    line = Line(Point(350, 370), Point(400, 340))\n",
    "    line.draw(win)\n",
    "    line = Line(Point(350, 370), Point(350, 320))\n",
    "    line.draw(win)\n",
    "    line = Line(Point(310, 370), Point(310, 320))\n",
    "    line.draw(win)\n",
    "    \n",
    "    line = Line(Point(305, 325), Point(330, 300))\n",
    "    line.draw(win)\n",
    "    line = Line(Point(330, 300), Point(355, 325))\n",
    "    line.draw(win)\n",
    "    line = Line(Point(355, 325), Point(405, 310))\n",
    "    line.draw(win)\n",
    "    line = Line(Point(400, 340), Point(400, 310))\n",
    "    line.draw(win)\n",
    "    line = Line(Point(330, 300), Point(388, 290))\n",
    "    line.draw(win)\n",
    "    line = Line(Point(388, 290), Point(405, 310))\n",
    "    line.draw(win)\n",
    "    \n",
    "    poly = Polygon(Point(320,370), Point(320,330), Point(335,330), Point(335, 370))\n",
    "    poly.setFill(\"orange\")\n",
    "    poly.draw(win)\n",
    "\n",
    "    win.getMouse()\n",
    "    win.close() "
   ]
  },
  {
   "cell_type": "code",
   "execution_count": 17,
   "metadata": {},
   "outputs": [
    {
     "ename": "GraphicsError",
     "evalue": "getMouse in closed window",
     "output_type": "error",
     "traceback": [
      "\u001b[1;31m---------------------------------------------------------------------------\u001b[0m",
      "\u001b[1;31mGraphicsError\u001b[0m                             Traceback (most recent call last)",
      "\u001b[1;32m<ipython-input-17-b770e7c560ff>\u001b[0m in \u001b[0;36m<module>\u001b[1;34m\u001b[0m\n\u001b[1;32m----> 1\u001b[1;33m \u001b[0mscenery\u001b[0m\u001b[1;33m(\u001b[0m\u001b[1;33m)\u001b[0m\u001b[1;33m\u001b[0m\u001b[1;33m\u001b[0m\u001b[0m\n\u001b[0m",
      "\u001b[1;32m<ipython-input-16-9a2fb84c139c>\u001b[0m in \u001b[0;36mscenery\u001b[1;34m()\u001b[0m\n\u001b[0;32m     68\u001b[0m     \u001b[0mpoly\u001b[0m\u001b[1;33m.\u001b[0m\u001b[0mdraw\u001b[0m\u001b[1;33m(\u001b[0m\u001b[0mwin\u001b[0m\u001b[1;33m)\u001b[0m\u001b[1;33m\u001b[0m\u001b[1;33m\u001b[0m\u001b[0m\n\u001b[0;32m     69\u001b[0m \u001b[1;33m\u001b[0m\u001b[0m\n\u001b[1;32m---> 70\u001b[1;33m     \u001b[0mwin\u001b[0m\u001b[1;33m.\u001b[0m\u001b[0mgetMouse\u001b[0m\u001b[1;33m(\u001b[0m\u001b[1;33m)\u001b[0m\u001b[1;33m\u001b[0m\u001b[1;33m\u001b[0m\u001b[0m\n\u001b[0m\u001b[0;32m     71\u001b[0m     \u001b[0mwin\u001b[0m\u001b[1;33m.\u001b[0m\u001b[0mclose\u001b[0m\u001b[1;33m(\u001b[0m\u001b[1;33m)\u001b[0m\u001b[1;33m\u001b[0m\u001b[1;33m\u001b[0m\u001b[0m\n",
      "\u001b[1;32mC:\\ProgramData\\Anaconda3\\lib\\site-packages\\graphics\\__init__.py\u001b[0m in \u001b[0;36mgetMouse\u001b[1;34m(self)\u001b[0m\n\u001b[0;32m    314\u001b[0m         \u001b[1;32mwhile\u001b[0m \u001b[0mself\u001b[0m\u001b[1;33m.\u001b[0m\u001b[0mmouseX\u001b[0m \u001b[1;33m==\u001b[0m \u001b[1;32mNone\u001b[0m \u001b[1;32mor\u001b[0m \u001b[0mself\u001b[0m\u001b[1;33m.\u001b[0m\u001b[0mmouseY\u001b[0m \u001b[1;33m==\u001b[0m \u001b[1;32mNone\u001b[0m\u001b[1;33m:\u001b[0m\u001b[1;33m\u001b[0m\u001b[1;33m\u001b[0m\u001b[0m\n\u001b[0;32m    315\u001b[0m             \u001b[0mself\u001b[0m\u001b[1;33m.\u001b[0m\u001b[0mupdate\u001b[0m\u001b[1;33m(\u001b[0m\u001b[1;33m)\u001b[0m\u001b[1;33m\u001b[0m\u001b[1;33m\u001b[0m\u001b[0m\n\u001b[1;32m--> 316\u001b[1;33m             \u001b[1;32mif\u001b[0m \u001b[0mself\u001b[0m\u001b[1;33m.\u001b[0m\u001b[0misClosed\u001b[0m\u001b[1;33m(\u001b[0m\u001b[1;33m)\u001b[0m\u001b[1;33m:\u001b[0m \u001b[1;32mraise\u001b[0m \u001b[0mGraphicsError\u001b[0m\u001b[1;33m(\u001b[0m\u001b[1;34m\"getMouse in closed window\"\u001b[0m\u001b[1;33m)\u001b[0m\u001b[1;33m\u001b[0m\u001b[1;33m\u001b[0m\u001b[0m\n\u001b[0m\u001b[0;32m    317\u001b[0m             \u001b[0mtime\u001b[0m\u001b[1;33m.\u001b[0m\u001b[0msleep\u001b[0m\u001b[1;33m(\u001b[0m\u001b[1;36m.1\u001b[0m\u001b[1;33m)\u001b[0m \u001b[1;31m# give up thread\u001b[0m\u001b[1;33m\u001b[0m\u001b[1;33m\u001b[0m\u001b[0m\n\u001b[0;32m    318\u001b[0m         \u001b[0mx\u001b[0m\u001b[1;33m,\u001b[0m\u001b[0my\u001b[0m \u001b[1;33m=\u001b[0m \u001b[0mself\u001b[0m\u001b[1;33m.\u001b[0m\u001b[0mtoWorld\u001b[0m\u001b[1;33m(\u001b[0m\u001b[0mself\u001b[0m\u001b[1;33m.\u001b[0m\u001b[0mmouseX\u001b[0m\u001b[1;33m,\u001b[0m \u001b[0mself\u001b[0m\u001b[1;33m.\u001b[0m\u001b[0mmouseY\u001b[0m\u001b[1;33m)\u001b[0m\u001b[1;33m\u001b[0m\u001b[1;33m\u001b[0m\u001b[0m\n",
      "\u001b[1;31mGraphicsError\u001b[0m: getMouse in closed window"
     ]
    }
   ],
   "source": [
    "scenery()"
   ]
  },
  {
   "cell_type": "code",
   "execution_count": null,
   "metadata": {},
   "outputs": [],
   "source": []
  }
 ],
 "metadata": {
  "kernelspec": {
   "display_name": "Python 3",
   "language": "python",
   "name": "python3"
  },
  "language_info": {
   "codemirror_mode": {
    "name": "ipython",
    "version": 3
   },
   "file_extension": ".py",
   "mimetype": "text/x-python",
   "name": "python",
   "nbconvert_exporter": "python",
   "pygments_lexer": "ipython3",
   "version": "3.8.8"
  }
 },
 "nbformat": 4,
 "nbformat_minor": 4
}
